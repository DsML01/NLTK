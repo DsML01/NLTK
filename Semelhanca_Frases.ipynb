{
 "cells": [
  {
   "cell_type": "code",
   "execution_count": 16,
   "metadata": {},
   "outputs": [
    {
     "name": "stdout",
     "output_type": "stream",
     "text": [
      "0.8020926117897034\n",
      "0.9897608160972595\n",
      "0.7607440948486328\n"
     ]
    }
   ],
   "source": [
    "import spacy\n",
    "nlp = spacy.load(\"pt_core_news_md\")\n",
    "#nlp = spacy.load(\"en_core_web_md\")\n",
    "\n",
    "\n",
    "doc1 = nlp(u'Eu sou o seu pai')\n",
    "doc2 = nlp(u'Sou seu pai')\n",
    "doc3 = nlp(u'Eu sou o seu tio')\n",
    "\n",
    "\n",
    "print(doc1.similarity(doc2)) \n",
    "print(doc1.similarity(doc3))\n",
    "print(doc2.similarity(doc3))"
   ]
  },
  {
   "cell_type": "code",
   "execution_count": 17,
   "metadata": {},
   "outputs": [
    {
     "name": "stdout",
     "output_type": "stream",
     "text": [
      "Similaridade: 0.20199309249791833\n"
     ]
    }
   ],
   "source": [
    "import nltk\n",
    "from nltk.corpus import stopwords\n",
    "from nltk.tokenize import word_tokenize\n",
    "from sklearn.feature_extraction.text import TfidfVectorizer\n",
    "from sklearn.metrics.pairwise import cosine_similarity\n",
    "\n",
    "# Frases a serem comparadas\n",
    "frase1 = \"O gato subiu na árvore\"\n",
    "frase2 = \"O cachorro subiu no muro\"\n",
    "\n",
    "# Tokenização e remoção de stopwords\n",
    "stop_words = set(stopwords.words('portuguese'))\n",
    "tokens1 = word_tokenize(frase1)\n",
    "tokens2 = word_tokenize(frase2)\n",
    "filtered_tokens1 = [w for w in tokens1 if not w in stop_words]\n",
    "filtered_tokens2 = [w for w in tokens2 if not w in stop_words]\n",
    "\n",
    "# Join tokens into strings\n",
    "sentence1 = \" \".join(filtered_tokens1)\n",
    "sentence2 = \" \".join(filtered_tokens2)\n",
    "\n",
    "# Vetorização\n",
    "vectorizer = TfidfVectorizer()\n",
    "vectors = vectorizer.fit_transform([sentence1, sentence2])\n",
    "\n",
    "# Cálculo da similaridade\n",
    "similarity = cosine_similarity(vectors)[0][1]\n",
    "print(\"Similaridade:\", similarity)"
   ]
  }
 ],
 "metadata": {
  "kernelspec": {
   "display_name": "env",
   "language": "python",
   "name": "python3"
  },
  "language_info": {
   "codemirror_mode": {
    "name": "ipython",
    "version": 3
   },
   "file_extension": ".py",
   "mimetype": "text/x-python",
   "name": "python",
   "nbconvert_exporter": "python",
   "pygments_lexer": "ipython3",
   "version": "3.10.12"
  }
 },
 "nbformat": 4,
 "nbformat_minor": 2
}
